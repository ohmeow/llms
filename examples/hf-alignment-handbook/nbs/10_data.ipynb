{
 "cells": [
  {
   "cell_type": "code",
   "execution_count": 1,
   "metadata": {},
   "outputs": [],
   "source": [
    "import nb_utils"
   ]
  },
  {
   "cell_type": "code",
   "execution_count": 2,
   "metadata": {},
   "outputs": [],
   "source": [
    "# |export\n",
    "import re\n",
    "from typing import List, Literal, Optional\n",
    "\n",
    "from datasets import DatasetDict, concatenate_datasets, load_dataset\n",
    "\n",
    "from training_lib.configs import DataArguments"
   ]
  },
  {
   "cell_type": "code",
   "execution_count": 3,
   "metadata": {},
   "outputs": [],
   "source": [
    "# |export\n",
    "def mix_datasets(dataset_mixer: dict, splits: Optional[List[str]] = None, shuffle=True) -> DatasetDict:\n",
    "    \"\"\"\n",
    "    Loads and mixes datasets according to proportions specified in `dataset_mixer`.\n",
    "\n",
    "    Args:\n",
    "        dataset_mixer (`dict`):\n",
    "            Dictionary containing the dataset names and their training proportions. By default, all test proportions are 1.\n",
    "        splits (Optional[List[str]], *optional*, defaults to `None`):\n",
    "            Dataset splits to load and mix. Assumes the splits exist in all datasets and have a `train_` or `test_` prefix.\n",
    "        shuffle (`bool`, *optional*, defaults to `True`):\n",
    "            Whether to shuffle the training data.\n",
    "    \"\"\"\n",
    "    raw_datasets = DatasetDict()\n",
    "    raw_train_datasets, raw_val_datasets, fracs = [], [], []\n",
    "    for ds, frac in dataset_mixer.items():\n",
    "        fracs.append(frac)\n",
    "        for split in splits:\n",
    "            if \"train\" in split:\n",
    "                raw_train_datasets.append(load_dataset(ds, split=split))\n",
    "            elif \"test\" in split:\n",
    "                raw_val_datasets.append(load_dataset(ds, split=split))\n",
    "            else:\n",
    "                raise ValueError(f\"Split type {split} not recognized as one of test or train.\")\n",
    "\n",
    "    if any(frac < 0 for frac in fracs):\n",
    "        raise ValueError(\"Dataset fractions cannot be negative.\")\n",
    "\n",
    "    if len(raw_train_datasets) > 0:\n",
    "        train_subsets = []\n",
    "        for dataset, frac in zip(raw_train_datasets, fracs):\n",
    "            train_subset = dataset.select(range(int(frac * len(dataset))))\n",
    "            train_subsets.append(train_subset)\n",
    "            \n",
    "        if shuffle:\n",
    "            raw_datasets[\"train\"] = concatenate_datasets(train_subsets).shuffle(seed=42)\n",
    "        else:\n",
    "            raw_datasets[\"train\"] = concatenate_datasets(train_subsets)\n",
    "            \n",
    "    # No subsampling for test datasets to enable fair comparison across models\n",
    "    if len(raw_val_datasets) > 0:\n",
    "        if shuffle:\n",
    "            raw_datasets[\"test\"] = concatenate_datasets(raw_val_datasets).shuffle(seed=42)\n",
    "        else:\n",
    "            raw_datasets[\"test\"] = concatenate_datasets(raw_val_datasets)\n",
    "\n",
    "    if len(raw_datasets) == 0:\n",
    "        raise ValueError(f\"Dataset {dataset_mixer} not recognized with split {split}. Check the dataset has been correctly formatted.\")\n",
    "\n",
    "    return raw_datasets"
   ]
  },
  {
   "cell_type": "code",
   "execution_count": 4,
   "metadata": {},
   "outputs": [
    {
     "name": "stdout",
     "output_type": "stream",
     "text": [
      "DatasetDict({\n",
      "    train: Dataset({\n",
      "        features: ['prompt', 'prompt_id', 'messages'],\n",
      "        num_rows: 207865\n",
      "    })\n",
      "    test: Dataset({\n",
      "        features: ['prompt', 'prompt_id', 'messages'],\n",
      "        num_rows: 23110\n",
      "    })\n",
      "})\n",
      "================================================================================\n",
      "DatasetDict({\n",
      "    train: Dataset({\n",
      "        features: ['prompt', 'prompt_id', 'messages'],\n",
      "        num_rows: 103932\n",
      "    })\n",
      "    test: Dataset({\n",
      "        features: ['prompt', 'prompt_id', 'messages'],\n",
      "        num_rows: 23110\n",
      "    })\n",
      "})\n",
      "================================================================================\n",
      "DatasetDict({\n",
      "    train: Dataset({\n",
      "        features: ['prompt', 'prompt_id', 'messages'],\n",
      "        num_rows: 51966\n",
      "    })\n",
      "    test: Dataset({\n",
      "        features: ['prompt', 'prompt_id', 'messages'],\n",
      "        num_rows: 23110\n",
      "    })\n",
      "})\n"
     ]
    }
   ],
   "source": [
    "mix_d = {\"HuggingFaceH4/ultrachat_200k\":1.0}\n",
    "raw_datasets = mix_datasets(mix_d, splits=[\"train_sft\", \"test_sft\"], shuffle=True)\n",
    "\n",
    "print(raw_datasets)\n",
    "print(\"=\"*80)\n",
    "\n",
    "mix_d = {\"HuggingFaceH4/ultrachat_200k\":0.5}\n",
    "raw_datasets = mix_datasets(mix_d, splits=[\"train_sft\", \"test_sft\"], shuffle=False)\n",
    "\n",
    "print(raw_datasets)\n",
    "print(\"=\"*80)\n",
    "\n",
    "mix_d = {\"HuggingFaceH4/ultrachat_200k\":0.25, \"HuggingFaceH4/ultrachat_200k\":0.25}\n",
    "raw_datasets = mix_datasets(mix_d, splits=[\"train_sft\", \"test_sft\"], shuffle=False)\n",
    "\n",
    "print(raw_datasets)"
   ]
  },
  {
   "cell_type": "code",
   "execution_count": 5,
   "metadata": {},
   "outputs": [],
   "source": [
    "# |export\n",
    "def get_datasets(data_config: DataArguments | dict, splits: List[str] = [\"train\", \"test\"], shuffle: bool = True) -> DatasetDict:\n",
    "    \"\"\"\n",
    "    Loads one or more datasets with varying training set proportions.\n",
    "\n",
    "    Args:\n",
    "        data_config (`DataArguments` or `dict`):\n",
    "            Dataset configuration and split proportions.\n",
    "        splits (`List[str]`, *optional*, defaults to `['train', 'test']`):\n",
    "            Dataset splits to load and mix. Assumes the splits exist in all datasets and have a `train_` or `test_` prefix.\n",
    "        shuffle (`bool`, *optional*, defaults to `True`):\n",
    "            Whether to shuffle the training data.\n",
    "\n",
    "    Returns\n",
    "        [`DatasetDict`]: The dataset dictionary containing the loaded datasets.\n",
    "    \"\"\"\n",
    "\n",
    "    if type(data_config) is DataArguments:\n",
    "        # Structure of the config to read the datasets and their mix\n",
    "        # datasets_mixer:\n",
    "        #     - 'dataset1': 0.5\n",
    "        #     - 'dataset2': 0.3\n",
    "        #     - 'dataset3': 0.2\n",
    "        dataset_mixer = data_config.dataset_mixer\n",
    "    elif type(data_config) is dict:\n",
    "        # Structure of the input is:\n",
    "        #     dataset_mixer = {\n",
    "        #             \"dataset1\": 0.5,\n",
    "        #             \"dataset1\": 0.3,\n",
    "        #             \"dataset1\": 0.2,\n",
    "        #         }\n",
    "        dataset_mixer = data_config\n",
    "    else:\n",
    "        raise ValueError(f\"Data config {data_config} not recognized.\")\n",
    "    \n",
    "    # print(dataset_mixer)\n",
    "    raw_datasets = mix_datasets(dataset_mixer, splits=splits, shuffle=shuffle)\n",
    "    \n",
    "    # If debugging\n",
    "    if data_config.max_train_samples:\n",
    "        for ds_name in raw_datasets.keys():\n",
    "            if \"train\" in ds_name:\n",
    "                raw_datasets[ds_name] = raw_datasets[ds_name].shuffle(seed=42).select(range(data_config.max_train_samples))\n",
    "                \n",
    "    if data_config.max_eval_samples:\n",
    "        for ds_name in raw_datasets.keys():\n",
    "            if \"eval\" in ds_name or \"test\" in ds_name:\n",
    "                raw_datasets[ds_name] = raw_datasets[ds_name].shuffle(seed=42).select(range(data_config.max_eval_samples))\n",
    "            \n",
    "    return raw_datasets"
   ]
  },
  {
   "cell_type": "code",
   "execution_count": 6,
   "metadata": {},
   "outputs": [
    {
     "name": "stdout",
     "output_type": "stream",
     "text": [
      "DatasetDict({\n",
      "    train: Dataset({\n",
      "        features: ['prompt', 'prompt_id', 'messages'],\n",
      "        num_rows: 207865\n",
      "    })\n",
      "    test: Dataset({\n",
      "        features: ['prompt', 'prompt_id', 'messages'],\n",
      "        num_rows: 23110\n",
      "    })\n",
      "})\n"
     ]
    },
    {
     "data": {
      "text/plain": [
       "{'prompt': 'How does the location of the Sydney Conservatorium of Music impact the academic and professional opportunities available to music students, and how does the conservatorium support student engagement with the music industry in Australia?',\n",
       " 'prompt_id': 'bc82021755d49d219f182fdd76ccfbd97ec9db38b1d12e1b891434e1477057f1',\n",
       " 'messages': [{'content': 'How does the location of the Sydney Conservatorium of Music impact the academic and professional opportunities available to music students, and how does the conservatorium support student engagement with the music industry in Australia?',\n",
       "   'role': 'user'},\n",
       "  {'content': \"The location of the Sydney Conservatorium of Music, which is situated in the heart of Sydney's cultural precinct, impacts both the academic and professional opportunities available to music students. The conservatorium is located near several major performing arts venues and organizations, including the Sydney Opera House, the Australian Broadcasting Corporation, and the Sydney Symphony Orchestra, providing students with easy access to performances, rehearsals, and networking opportunities.\\n\\nOne of the primary ways the conservatorium supports student engagement with the music industry in Australia is through its strong industry connections. The conservatorium has established partnerships with numerous professional music organizations, such as the Australian Chamber Orchestra, Opera Australia, and the Melbourne Symphony Orchestra. These partnerships provide students with the opportunity to work with industry professionals and gain practical experience in their chosen field.\\n\\nThe conservatorium also offers a range of academic and extra-curricular programs that prepare students for careers in the music industry. For example, the Bachelor of Music (Performance) program includes specialized pathways in instrumental/vocal performance, composition, and musicology, while the Artist-In-Residence program allows students to work with internationally renowned musicians.\\n\\nAdditionally, the conservatorium has a dedicated Career Development Office that provides students with assistance in finding employment, internships, and performance opportunities. The office also hosts regular industry events, such as masterclasses and networking sessions, to help students connect with industry professionals and gain a deeper understanding of the music industry in Australia.\\n\\nOverall, the location of the Sydney Conservatorium of Music and its strong industry connections provide students with a range of academic and professional opportunities that prepare them for successful careers in the music industry.\",\n",
       "   'role': 'assistant'},\n",
       "  {'content': 'Can you give me some examples of notable alumni from the Sydney Conservatorium of Music who have gone on to successful careers in the music industry?',\n",
       "   'role': 'user'},\n",
       "  {'content': \"Certainly! The Sydney Conservatorium of Music has produced many successful alumni that have gone on to have impactful careers in the music industry. Here are a few notable examples:\\n\\n1. Brett Dean: Dean is an Australian composer and violist who studied at the Sydney Conservatorium of Music in the 1980s. He has since become one of Australia's most prominent living composers, and his works have been performed around the world.\\n\\n2. Nicole Car: Car is an Australian operatic soprano who studied at the Sydney Conservatorium of Music in the early 2000s. She has since become an internationally renowned singer and has performed in some of the world's most prestigious opera houses.\\n\\n3. Tim Minchin: Minchin is an Australian comedian, composer, and musician who studied piano and classical music at the Sydney Conservatorium of Music in the 1990s. He has since become a household name in Australia and around the world for his unique brand of musical comedy.\\n\\n4. Elena Kats-Chernin: Kats-Chernin is an Australian pianist and composer who studied at the Sydney Conservatorium of Music in the 1970s. She has since become one of Australia's most prominent composers, and her music has been performed by some of the world's leading orchestras.\\n\\n5. Jessica Wells: Wells is an Australian conductor and violinist who studied at the Sydney Conservatorium of Music in the 2000s. She has since become a sought-after conductor, working with a range of orchestras in Australia and around the world.\\n\\nThese are just a few examples of the many successful alumni who have studied at the Sydney Conservatorium of Music.\",\n",
       "   'role': 'assistant'},\n",
       "  {'content': 'Can you tell me more about the Artist-In-Residence program at the Sydney Conservatorium of Music? How does it work and what are the benefits for students?',\n",
       "   'role': 'user'},\n",
       "  {'content': 'The Artist-In-Residence program at the Sydney Conservatorium of Music is a unique opportunity for students to work with internationally renowned musicians, composers, and artists. The program brings in a diverse range of artists from around the world to collaborate with students and faculty for extended periods of time.\\n\\nThe program is designed to provide students with access to world-class artists and allow them to gain valuable experience working with professionals in their field. Typically, the artists-in-residence will give lectures, masterclasses, and workshops, perform with students or faculty members, and collaborate on new works or projects.\\n\\nThe program benefits students in several ways. Firstly, it provides them with exposure to different styles of music and different approaches to performance and composition. This exposure can help to broaden their musical horizons and inspire them to explore new genres or techniques.\\n\\nSecondly, working with professional artists can provide students with valuable learning opportunities. They can gain insights into the creative process and learn from the experiences of professionals who have had successful careers in the music industry.\\n\\nFinally, the program can help to build valuable connections and networks for students. By working with visiting artists, students have the opportunity to establish relationships and build networks that may help them in their future careers.\\n\\nOverall, the Artist-In-Residence program at the Sydney Conservatorium of Music is a valuable opportunity for students to work with world-class artists and gain valuable experience that can help them in their future careers.',\n",
       "   'role': 'assistant'},\n",
       "  {'content': 'Are there any opportunities for students at the Sydney Conservatorium of Music to perform or showcase their talent outside of the campus and in front of a live audience?',\n",
       "   'role': 'user'},\n",
       "  {'content': 'Yes, there are many opportunities for students at the Sydney Conservatorium of Music to perform or showcase their talent outside of the campus. The conservatorium has strong industry connections throughout Australia, and regularly hosts events and performances that allow students to gain real-world experience and exposure.\\n\\nOne example is the Sydney Conservatorium of Music Symphony Orchestra, which performs regularly at venues including the Sydney Opera House and the City Recital Hall. Students who participate in the orchestra have the opportunity to perform in front of larger audiences and gain experience working with professional conductors and musicians.\\n\\nAdditionally, the conservatorium hosts numerous concerts and recitals throughout the year that feature solo performances and small ensembles. These performances take place both on and off-campus and provide students with the opportunity to showcase their skills in front of a live audience.\\n\\nThe conservatorium also participates in a range of external events and festivals, including the Sydney Festival and the Vivid Sydney Festival of Light, Music, and Ideas. These events provide students with exposure to a wider audience and the opportunity to perform alongside other professional musicians and artists.\\n\\nOverall, the Sydney Conservatorium of Music provides students with many opportunities to perform and showcase their talent outside of the campus and gain experience working in real-world performance contexts.',\n",
       "   'role': 'assistant'},\n",
       "  {'content': 'Can you tell me more about the specific partnerships the Sydney Conservatorium of Music has with professional music organizations, and how those partnerships benefit the students?',\n",
       "   'role': 'user'},\n",
       "  {'content': \"Yes, the Sydney Conservatorium of Music has established partnerships with several professional music organizations that provide a range of opportunities for students to gain practical experience and connect with industry professionals. Here are a few examples:\\n\\n1. Australian Chamber Orchestra (ACO): The Sydney Conservatorium of Music has a longstanding partnership with the ACO, which allows students to participate in masterclasses and workshops with ACO musicians. The partnership also includes the ACO Academy, which provides a range of professional development opportunities for young musicians.\\n\\n2. Opera Australia: Students at the Sydney Conservatorium of Music can participate in Opera Australia's Youth Opera Program, which includes workshops and performance opportunities with the company's professional singers and musicians. The partnership also includes the Opera Australia Scholarship, which provides financial support and mentorship to young singers.\\n\\n3. Melbourne Symphony Orchestra (MSO): The Sydney Conservatorium of Music has a partnership with the MSO, which provides students with access to professional development opportunities such as masterclasses and workshops. The partnership also includes the MSO Fellowship Program, which provides young conductors with mentorship and experience working with a professional orchestra.\\n\\n4. Sydney Symphony Orchestra (SSO): The Sydney Conservatorium of Music has a close relationship with the SSO, with many of the orchestra's members also serving as faculty members at the conservatorium. Students have many opportunities to collaborate with the SSO, including performance opportunities and workshops with orchestra members.\\n\\nThese partnerships benefit students in several ways. Firstly, they provide access to professional musicians and industry leaders who can offer insight into the music industry and provide guidance and support for young musicians. Secondly, they provide practical experience and opportunities for students to perform with professional musicians and gain exposure to real-world performance contexts. Finally, they help to build connections and networks within the industry, which can be valuable for students as they embark on their own careers in music.\",\n",
       "   'role': 'assistant'},\n",
       "  {'content': \"Wow, it's great to hear that the Sydney Conservatorium of Music provides so many opportunities for students to connect with professionals in the music industry. Do they also offer any internships or job placements for graduates?\",\n",
       "   'role': 'user'},\n",
       "  {'content': 'Yes, the Sydney Conservatorium of Music offers a range of internship and job placement opportunities for its graduates. The conservatorium has a dedicated Career Development Office that provides resources and support to students and alumni as they transition into the music industry.\\n\\nThe Career Development Office works with a range of industry partners to provide internships and job placements for graduates. These industry partners include major orchestras, opera companies, festivals, and record labels. Internships and job placements can vary widely, depending on the needs of the industry partner and the skills and interests of the graduate.\\n\\nThe conservatorium also hosts regular workshops and events on topics related to career development, such as resume writing, networking, and professional branding. These events are designed to provide students and alumni with practical skills and advice to help them succeed in the music industry.\\n\\nAdditionally, the conservatorium has a strong alumni network, with graduates working in a wide range of musical fields around the world. This network can be a valuable resource for students and alumni as they navigate their careers and seek out new opportunities.\\n\\nOverall, the Sydney Conservatorium of Music is committed to supporting students and alumni as they transition into the music industry, and offers a range of internship and job placement opportunities to help them achieve success.',\n",
       "   'role': 'assistant'}]}"
      ]
     },
     "execution_count": 6,
     "metadata": {},
     "output_type": "execute_result"
    }
   ],
   "source": [
    "data_args = DataArguments(dataset_mixer={\"HuggingFaceH4/ultrachat_200k\":1.0})\n",
    "raw_datasets = get_datasets(data_args, splits=[\"train_sft\", \"test_sft\"])\n",
    "\n",
    "\n",
    "\n",
    "print(raw_datasets)\n",
    "raw_datasets[\"train\"][0]"
   ]
  },
  {
   "cell_type": "markdown",
   "metadata": {},
   "source": [
    "## Export"
   ]
  },
  {
   "cell_type": "code",
   "execution_count": 11,
   "metadata": {},
   "outputs": [],
   "source": [
    "from nbdev.export import nb_export\n",
    "\n",
    "nb_export(\"10_data.ipynb\", lib_path=\"../training_lib/\", name=\"data\")"
   ]
  },
  {
   "cell_type": "code",
   "execution_count": null,
   "metadata": {},
   "outputs": [],
   "source": []
  }
 ],
 "metadata": {
  "kernelspec": {
   "display_name": "llms",
   "language": "python",
   "name": "python3"
  },
  "language_info": {
   "codemirror_mode": {
    "name": "ipython",
    "version": 3
   },
   "file_extension": ".py",
   "mimetype": "text/x-python",
   "name": "python",
   "nbconvert_exporter": "python",
   "pygments_lexer": "ipython3",
   "version": "3.11.4"
  }
 },
 "nbformat": 4,
 "nbformat_minor": 2
}
