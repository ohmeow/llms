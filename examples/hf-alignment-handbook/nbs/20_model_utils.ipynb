{
 "cells": [
  {
   "cell_type": "code",
   "execution_count": 1,
   "metadata": {},
   "outputs": [],
   "source": [
    "import nb_utils"
   ]
  },
  {
   "cell_type": "code",
   "execution_count": 2,
   "metadata": {},
   "outputs": [],
   "source": [
    "import os\n",
    "\n",
    "os.environ[\"CUDA_VISIBLE_DEVICES\"] = \"0, 1\""
   ]
  },
  {
   "cell_type": "code",
   "execution_count": 3,
   "metadata": {},
   "outputs": [],
   "source": [
    "# |export\n",
    "import os, re\n",
    "from typing import Dict, Literal\n",
    "\n",
    "import torch\n",
    "from transformers import AutoTokenizer, BitsAndBytesConfig, PreTrainedTokenizer\n",
    "\n",
    "from accelerate import Accelerator\n",
    "from huggingface_hub import list_repo_files\n",
    "from huggingface_hub.utils._validators import HFValidationError\n",
    "from peft import LoraConfig, PeftConfig\n",
    "\n",
    "from training_lib.configs import DataArguments, ModelArguments"
   ]
  },
  {
   "cell_type": "code",
   "execution_count": 4,
   "metadata": {},
   "outputs": [],
   "source": [
    "# |export\n",
    "DEFAULT_CHAT_TEMPLATE = \"\"\"\\\n",
    "{% for message in messages %}\n",
    "{% if message['role'] == 'user' %}\n",
    "{{ '<|user|>\\n' + message['content'] + eos_token }}\n",
    "{% elif message['role'] == 'system' %}\n",
    "{{ '<|system|>\\n' + message['content'] + eos_token }}\n",
    "{% elif message['role'] == 'assistant' %}\n",
    "{{ '<|assistant|>\\n'  + message['content'] + eos_token }}\n",
    "{% endif %}\n",
    "{% if loop.last and add_generation_prompt %}\n",
    "{{ '<|assistant|>' }}\n",
    "{% endif %}\n",
    "{% endfor %}\"\"\""
   ]
  },
  {
   "cell_type": "markdown",
   "metadata": {},
   "source": [
    "## Tokenizer"
   ]
  },
  {
   "cell_type": "code",
   "execution_count": 5,
   "metadata": {},
   "outputs": [],
   "source": [
    "# |export\n",
    "def get_tokenizer(model_args: ModelArguments, data_args: DataArguments) -> PreTrainedTokenizer:\n",
    "    \"\"\"Get the tokenizer for the model.\"\"\"\n",
    "    tokenizer = AutoTokenizer.from_pretrained(model_args.model_name_or_path, revision=model_args.model_revision)\n",
    "\n",
    "    # If no pad token, default to eos token\n",
    "    if tokenizer.pad_token_id is None:\n",
    "        tokenizer.pad_token_id = tokenizer.eos_token_id\n",
    "\n",
    "    if data_args.truncation_side is not None:\n",
    "        tokenizer.truncation_side = data_args.truncation_side\n",
    "\n",
    "    # Set reasonable default for models without max length\n",
    "    if tokenizer.model_max_length > 100_000:\n",
    "        tokenizer.model_max_length = 2048\n",
    "\n",
    "    if data_args.chat_template is not None:\n",
    "        tokenizer.chat_template = data_args.chat_template\n",
    "    elif tokenizer.chat_template is None:\n",
    "        tokenizer.chat_template = DEFAULT_CHAT_TEMPLATE\n",
    "\n",
    "    return tokenizer"
   ]
  },
  {
   "cell_type": "code",
   "execution_count": 6,
   "metadata": {},
   "outputs": [
    {
     "name": "stdout",
     "output_type": "stream",
     "text": [
      "LlamaTokenizerFast(name_or_path='mistralai/Mistral-7B-v0.1', vocab_size=32000, model_max_length=2048, is_fast=True, padding_side='left', truncation_side='right', special_tokens={'bos_token': '<s>', 'eos_token': '</s>', 'unk_token': '<unk>', 'pad_token': '</s>'}, clean_up_tokenization_spaces=False),  added_tokens_decoder={\n",
      "\t0: AddedToken(\"<unk>\", rstrip=False, lstrip=False, single_word=False, normalized=False, special=True),\n",
      "\t1: AddedToken(\"<s>\", rstrip=False, lstrip=False, single_word=False, normalized=False, special=True),\n",
      "\t2: AddedToken(\"</s>\", rstrip=False, lstrip=False, single_word=False, normalized=False, special=True),\n",
      "}\n",
      "================================================================================\n",
      "{% for message in messages %}\n",
      "{% if message['role'] == 'user' %}\n",
      "{{ '<|user|>\n",
      "' + message['content'] + eos_token }}\n",
      "{% elif message['role'] == 'system' %}\n",
      "{{ '<|system|>\n",
      "' + message['content'] + eos_token }}\n",
      "{% elif message['role'] == 'assistant' %}\n",
      "{{ '<|assistant|>\n",
      "'  + message['content'] + eos_token }}\n",
      "{% endif %}\n",
      "{% if loop.last and add_generation_prompt %}\n",
      "{{ '<|assistant|>' }}\n",
      "{% endif %}\n",
      "{% endfor %}\n"
     ]
    }
   ],
   "source": [
    "data_args = DataArguments(dataset_mixer={\"HuggingFaceH4/ultrachat_200k\": 1.0})\n",
    "model_args = ModelArguments(model_name_or_path=\"mistralai/Mistral-7B-v0.1\")\n",
    "\n",
    "tokenizer = get_tokenizer(model_args, data_args)\n",
    "\n",
    "print(tokenizer)\n",
    "print(\"=\" * 80)\n",
    "print(tokenizer.chat_template)"
   ]
  },
  {
   "cell_type": "code",
   "execution_count": 7,
   "metadata": {},
   "outputs": [],
   "source": [
    "# |export\n",
    "def apply_chat_template(example, tokenizer, task: Literal[\"sft\", \"generation\", \"rm\", \"dpo\"] = \"sft\", assistant_prefix=\"<|assistant|>\\n\"):\n",
    "    def _strip_prefix(s, pattern):\n",
    "        # Use re.escape to escape any special characters in the pattern\n",
    "        return re.sub(f\"^{re.escape(pattern)}\", \"\", s)\n",
    "\n",
    "    if task in [\"sft\", \"generation\"]:\n",
    "        messages = example[\"messages\"]\n",
    "\n",
    "        # We add an empty system message if there is none\n",
    "        if messages[0][\"role\"] != \"system\":\n",
    "            messages.insert(0, {\"role\": \"system\", \"content\": \"\"})\n",
    "\n",
    "        example[\"text\"] = tokenizer.apply_chat_template(\n",
    "            messages, tokenize=False, add_generation_prompt=True if task == \"generation\" else False\n",
    "        )\n",
    "    elif task == \"rm\":\n",
    "        if all(k in example.keys() for k in (\"chosen\", \"rejected\")):\n",
    "            chosen_messages = example[\"chosen\"]\n",
    "            rejected_messages = example[\"rejected\"]\n",
    "\n",
    "            # We add an empty system message if there is none\n",
    "            if chosen_messages[0][\"role\"] != \"system\":\n",
    "                chosen_messages.insert(0, {\"role\": \"system\", \"content\": \"\"})\n",
    "            if rejected_messages[0][\"role\"] != \"system\":\n",
    "                rejected_messages.insert(0, {\"role\": \"system\", \"content\": \"\"})\n",
    "\n",
    "            example[\"text_chosen\"] = tokenizer.apply_chat_template(chosen_messages, tokenize=False)\n",
    "            example[\"text_rejected\"] = tokenizer.apply_chat_template(rejected_messages, tokenize=False)\n",
    "        else:\n",
    "            raise ValueError(\n",
    "                f\"Could not format example as dialogue for `rm` task! Require `[chosen, rejected]` keys but found {list(example.keys())}\"\n",
    "            )\n",
    "    elif task == \"dpo\":\n",
    "        if all(k in example.keys() for k in (\"chosen\", \"rejected\")):\n",
    "            # Compared to reward modeling, we filter out the prompt, so the text is everything after the last assistant token\n",
    "            prompt_messages = [[msg for msg in example[\"chosen\"] if msg[\"role\"] == \"user\"][0]]\n",
    "\n",
    "            # Insert system message\n",
    "            if example[\"chosen\"][0][\"role\"] != \"system\":\n",
    "                prompt_messages.insert(0, {\"role\": \"system\", \"content\": \"\"})\n",
    "            else:\n",
    "                prompt_messages.insert(0, example[\"chosen\"][0])\n",
    "\n",
    "            # TODO: handle case where chosen/rejected also have system messages\n",
    "            chosen_messages = example[\"chosen\"][1:]\n",
    "            rejected_messages = example[\"rejected\"][1:]\n",
    "\n",
    "            example[\"text_chosen\"] = tokenizer.apply_chat_template(chosen_messages, tokenize=False)\n",
    "            example[\"text_rejected\"] = tokenizer.apply_chat_template(rejected_messages, tokenize=False)\n",
    "            example[\"text_prompt\"] = tokenizer.apply_chat_template(prompt_messages, tokenize=False, add_generation_prompt=True)\n",
    "            example[\"text_chosen\"] = _strip_prefix(example[\"text_chosen\"], assistant_prefix)\n",
    "            example[\"text_rejected\"] = _strip_prefix(example[\"text_rejected\"], assistant_prefix)\n",
    "        else:\n",
    "            raise ValueError(\n",
    "                f\"Could not format example as dialogue for `dpo` task! Require `[chosen, rejected]` keys but found {list(example.keys())}\"\n",
    "            )\n",
    "    else:\n",
    "        raise ValueError(f\"Task {task} not supported, please ensure that the provided task is one of {['sft', 'generation', 'rm', 'dpo']}\")\n",
    "    return example"
   ]
  },
  {
   "cell_type": "code",
   "execution_count": 8,
   "metadata": {},
   "outputs": [
    {
     "name": "stdout",
     "output_type": "stream",
     "text": [
      "DatasetDict({\n",
      "    train: Dataset({\n",
      "        features: ['prompt', 'prompt_id', 'messages'],\n",
      "        num_rows: 207865\n",
      "    })\n",
      "    test: Dataset({\n",
      "        features: ['prompt', 'prompt_id', 'messages'],\n",
      "        num_rows: 23110\n",
      "    })\n",
      "})\n",
      "================================================================================\n",
      "{'prompt': 'How does the location of the Sydney Conservatorium of Music impact the academic and professional opportunities available to music students, and how does the conservatorium support student engagement with the music industry in Australia?', 'prompt_id': 'bc82021755d49d219f182fdd76ccfbd97ec9db38b1d12e1b891434e1477057f1', 'messages': [{'content': 'How does the location of the Sydney Conservatorium of Music impact the academic and professional opportunities available to music students, and how does the conservatorium support student engagement with the music industry in Australia?', 'role': 'user'}, {'content': \"The location of the Sydney Conservatorium of Music, which is situated in the heart of Sydney's cultural precinct, impacts both the academic and professional opportunities available to music students. The conservatorium is located near several major performing arts venues and organizations, including the Sydney Opera House, the Australian Broadcasting Corporation, and the Sydney Symphony Orchestra, providing students with easy access to performances, rehearsals, and networking opportunities.\\n\\nOne of the primary ways the conservatorium supports student engagement with the music industry in Australia is through its strong industry connections. The conservatorium has established partnerships with numerous professional music organizations, such as the Australian Chamber Orchestra, Opera Australia, and the Melbourne Symphony Orchestra. These partnerships provide students with the opportunity to work with industry professionals and gain practical experience in their chosen field.\\n\\nThe conservatorium also offers a range of academic and extra-curricular programs that prepare students for careers in the music industry. For example, the Bachelor of Music (Performance) program includes specialized pathways in instrumental/vocal performance, composition, and musicology, while the Artist-In-Residence program allows students to work with internationally renowned musicians.\\n\\nAdditionally, the conservatorium has a dedicated Career Development Office that provides students with assistance in finding employment, internships, and performance opportunities. The office also hosts regular industry events, such as masterclasses and networking sessions, to help students connect with industry professionals and gain a deeper understanding of the music industry in Australia.\\n\\nOverall, the location of the Sydney Conservatorium of Music and its strong industry connections provide students with a range of academic and professional opportunities that prepare them for successful careers in the music industry.\", 'role': 'assistant'}, {'content': 'Can you give me some examples of notable alumni from the Sydney Conservatorium of Music who have gone on to successful careers in the music industry?', 'role': 'user'}, {'content': \"Certainly! The Sydney Conservatorium of Music has produced many successful alumni that have gone on to have impactful careers in the music industry. Here are a few notable examples:\\n\\n1. Brett Dean: Dean is an Australian composer and violist who studied at the Sydney Conservatorium of Music in the 1980s. He has since become one of Australia's most prominent living composers, and his works have been performed around the world.\\n\\n2. Nicole Car: Car is an Australian operatic soprano who studied at the Sydney Conservatorium of Music in the early 2000s. She has since become an internationally renowned singer and has performed in some of the world's most prestigious opera houses.\\n\\n3. Tim Minchin: Minchin is an Australian comedian, composer, and musician who studied piano and classical music at the Sydney Conservatorium of Music in the 1990s. He has since become a household name in Australia and around the world for his unique brand of musical comedy.\\n\\n4. Elena Kats-Chernin: Kats-Chernin is an Australian pianist and composer who studied at the Sydney Conservatorium of Music in the 1970s. She has since become one of Australia's most prominent composers, and her music has been performed by some of the world's leading orchestras.\\n\\n5. Jessica Wells: Wells is an Australian conductor and violinist who studied at the Sydney Conservatorium of Music in the 2000s. She has since become a sought-after conductor, working with a range of orchestras in Australia and around the world.\\n\\nThese are just a few examples of the many successful alumni who have studied at the Sydney Conservatorium of Music.\", 'role': 'assistant'}, {'content': 'Can you tell me more about the Artist-In-Residence program at the Sydney Conservatorium of Music? How does it work and what are the benefits for students?', 'role': 'user'}, {'content': 'The Artist-In-Residence program at the Sydney Conservatorium of Music is a unique opportunity for students to work with internationally renowned musicians, composers, and artists. The program brings in a diverse range of artists from around the world to collaborate with students and faculty for extended periods of time.\\n\\nThe program is designed to provide students with access to world-class artists and allow them to gain valuable experience working with professionals in their field. Typically, the artists-in-residence will give lectures, masterclasses, and workshops, perform with students or faculty members, and collaborate on new works or projects.\\n\\nThe program benefits students in several ways. Firstly, it provides them with exposure to different styles of music and different approaches to performance and composition. This exposure can help to broaden their musical horizons and inspire them to explore new genres or techniques.\\n\\nSecondly, working with professional artists can provide students with valuable learning opportunities. They can gain insights into the creative process and learn from the experiences of professionals who have had successful careers in the music industry.\\n\\nFinally, the program can help to build valuable connections and networks for students. By working with visiting artists, students have the opportunity to establish relationships and build networks that may help them in their future careers.\\n\\nOverall, the Artist-In-Residence program at the Sydney Conservatorium of Music is a valuable opportunity for students to work with world-class artists and gain valuable experience that can help them in their future careers.', 'role': 'assistant'}, {'content': 'Are there any opportunities for students at the Sydney Conservatorium of Music to perform or showcase their talent outside of the campus and in front of a live audience?', 'role': 'user'}, {'content': 'Yes, there are many opportunities for students at the Sydney Conservatorium of Music to perform or showcase their talent outside of the campus. The conservatorium has strong industry connections throughout Australia, and regularly hosts events and performances that allow students to gain real-world experience and exposure.\\n\\nOne example is the Sydney Conservatorium of Music Symphony Orchestra, which performs regularly at venues including the Sydney Opera House and the City Recital Hall. Students who participate in the orchestra have the opportunity to perform in front of larger audiences and gain experience working with professional conductors and musicians.\\n\\nAdditionally, the conservatorium hosts numerous concerts and recitals throughout the year that feature solo performances and small ensembles. These performances take place both on and off-campus and provide students with the opportunity to showcase their skills in front of a live audience.\\n\\nThe conservatorium also participates in a range of external events and festivals, including the Sydney Festival and the Vivid Sydney Festival of Light, Music, and Ideas. These events provide students with exposure to a wider audience and the opportunity to perform alongside other professional musicians and artists.\\n\\nOverall, the Sydney Conservatorium of Music provides students with many opportunities to perform and showcase their talent outside of the campus and gain experience working in real-world performance contexts.', 'role': 'assistant'}, {'content': 'Can you tell me more about the specific partnerships the Sydney Conservatorium of Music has with professional music organizations, and how those partnerships benefit the students?', 'role': 'user'}, {'content': \"Yes, the Sydney Conservatorium of Music has established partnerships with several professional music organizations that provide a range of opportunities for students to gain practical experience and connect with industry professionals. Here are a few examples:\\n\\n1. Australian Chamber Orchestra (ACO): The Sydney Conservatorium of Music has a longstanding partnership with the ACO, which allows students to participate in masterclasses and workshops with ACO musicians. The partnership also includes the ACO Academy, which provides a range of professional development opportunities for young musicians.\\n\\n2. Opera Australia: Students at the Sydney Conservatorium of Music can participate in Opera Australia's Youth Opera Program, which includes workshops and performance opportunities with the company's professional singers and musicians. The partnership also includes the Opera Australia Scholarship, which provides financial support and mentorship to young singers.\\n\\n3. Melbourne Symphony Orchestra (MSO): The Sydney Conservatorium of Music has a partnership with the MSO, which provides students with access to professional development opportunities such as masterclasses and workshops. The partnership also includes the MSO Fellowship Program, which provides young conductors with mentorship and experience working with a professional orchestra.\\n\\n4. Sydney Symphony Orchestra (SSO): The Sydney Conservatorium of Music has a close relationship with the SSO, with many of the orchestra's members also serving as faculty members at the conservatorium. Students have many opportunities to collaborate with the SSO, including performance opportunities and workshops with orchestra members.\\n\\nThese partnerships benefit students in several ways. Firstly, they provide access to professional musicians and industry leaders who can offer insight into the music industry and provide guidance and support for young musicians. Secondly, they provide practical experience and opportunities for students to perform with professional musicians and gain exposure to real-world performance contexts. Finally, they help to build connections and networks within the industry, which can be valuable for students as they embark on their own careers in music.\", 'role': 'assistant'}, {'content': \"Wow, it's great to hear that the Sydney Conservatorium of Music provides so many opportunities for students to connect with professionals in the music industry. Do they also offer any internships or job placements for graduates?\", 'role': 'user'}, {'content': 'Yes, the Sydney Conservatorium of Music offers a range of internship and job placement opportunities for its graduates. The conservatorium has a dedicated Career Development Office that provides resources and support to students and alumni as they transition into the music industry.\\n\\nThe Career Development Office works with a range of industry partners to provide internships and job placements for graduates. These industry partners include major orchestras, opera companies, festivals, and record labels. Internships and job placements can vary widely, depending on the needs of the industry partner and the skills and interests of the graduate.\\n\\nThe conservatorium also hosts regular workshops and events on topics related to career development, such as resume writing, networking, and professional branding. These events are designed to provide students and alumni with practical skills and advice to help them succeed in the music industry.\\n\\nAdditionally, the conservatorium has a strong alumni network, with graduates working in a wide range of musical fields around the world. This network can be a valuable resource for students and alumni as they navigate their careers and seek out new opportunities.\\n\\nOverall, the Sydney Conservatorium of Music is committed to supporting students and alumni as they transition into the music industry, and offers a range of internship and job placement opportunities to help them achieve success.', 'role': 'assistant'}]}\n",
      "================================================================================\n",
      "<|system|>\n",
      "</s>\n",
      "<|user|>\n",
      "How does the location of the Sydney Conservatorium of Music impact the academic and professional opportunities available to music students, and how does the conservatorium support student engagement with the music industry in Australia?</s>\n",
      "<|assistant|>\n",
      "The location of the Sydney Conservatorium of Music, which is situated in the heart of Sydney's cultural precinct, impacts both the academic and professional opportunities available to music students. The conservatorium is located near several major performing arts venues and organizations, including the Sydney Opera House, the Australian Broadcasting Corporation, and the Sydney Symphony Orchestra, providing students with easy access to performances, rehearsals, and networking opportunities.\n",
      "\n",
      "One of the primary ways the conservatorium supports student engagement with the music industry in Australia is through its strong industry connections. The conservatorium has established partnerships with numerous professional music organizations, such as the Australian Chamber Orchestra, Opera Australia, and the Melbourne Symphony Orchestra. These partnerships provide students with the opportunity to work with industry professionals and gain practical experience in their chosen field.\n",
      "\n",
      "The conservatorium also offers a range of academic and extra-curricular programs that prepare students for careers in the music industry. For example, the Bachelor of Music (Performance) program includes specialized pathways in instrumental/vocal performance, composition, and musicology, while the Artist-In-Residence program allows students to work with internationally renowned musicians.\n",
      "\n",
      "Additionally, the conservatorium has a dedicated Career Development Office that provides students with assistance in finding employment, internships, and performance opportunities. The office also hosts regular industry events, such as masterclasses and networking sessions, to help students connect with industry professionals and gain a deeper understanding of the music industry in Australia.\n",
      "\n",
      "Overall, the location of the Sydney Conservatorium of Music and its strong industry connections provide students with a range of academic and professional opportunities that prepare them for successful careers in the music industry.</s>\n",
      "<|user|>\n",
      "Can you give me some examples of notable alumni from the Sydney Conservatorium of Music who have gone on to successful careers in the music industry?</s>\n",
      "<|assistant|>\n",
      "Certainly! The Sydney Conservatorium of Music has produced many successful alumni that have gone on to have impactful careers in the music industry. Here are a few notable examples:\n",
      "\n",
      "1. Brett Dean: Dean is an Australian composer and violist who studied at the Sydney Conservatorium of Music in the 1980s. He has since become one of Australia's most prominent living composers, and his works have been performed around the world.\n",
      "\n",
      "2. Nicole Car: Car is an Australian operatic soprano who studied at the Sydney Conservatorium of Music in the early 2000s. She has since become an internationally renowned singer and has performed in some of the world's most prestigious opera houses.\n",
      "\n",
      "3. Tim Minchin: Minchin is an Australian comedian, composer, and musician who studied piano and classical music at the Sydney Conservatorium of Music in the 1990s. He has since become a household name in Australia and around the world for his unique brand of musical comedy.\n",
      "\n",
      "4. Elena Kats-Chernin: Kats-Chernin is an Australian pianist and composer who studied at the Sydney Conservatorium of Music in the 1970s. She has since become one of Australia's most prominent composers, and her music has been performed by some of the world's leading orchestras.\n",
      "\n",
      "5. Jessica Wells: Wells is an Australian conductor and violinist who studied at the Sydney Conservatorium of Music in the 2000s. She has since become a sought-after conductor, working with a range of orchestras in Australia and around the world.\n",
      "\n",
      "These are just a few examples of the many successful alumni who have studied at the Sydney Conservatorium of Music.</s>\n",
      "<|user|>\n",
      "Can you tell me more about the Artist-In-Residence program at the Sydney Conservatorium of Music? How does it work and what are the benefits for students?</s>\n",
      "<|assistant|>\n",
      "The Artist-In-Residence program at the Sydney Conservatorium of Music is a unique opportunity for students to work with internationally renowned musicians, composers, and artists. The program brings in a diverse range of artists from around the world to collaborate with students and faculty for extended periods of time.\n",
      "\n",
      "The program is designed to provide students with access to world-class artists and allow them to gain valuable experience working with professionals in their field. Typically, the artists-in-residence will give lectures, masterclasses, and workshops, perform with students or faculty members, and collaborate on new works or projects.\n",
      "\n",
      "The program benefits students in several ways. Firstly, it provides them with exposure to different styles of music and different approaches to performance and composition. This exposure can help to broaden their musical horizons and inspire them to explore new genres or techniques.\n",
      "\n",
      "Secondly, working with professional artists can provide students with valuable learning opportunities. They can gain insights into the creative process and learn from the experiences of professionals who have had successful careers in the music industry.\n",
      "\n",
      "Finally, the program can help to build valuable connections and networks for students. By working with visiting artists, students have the opportunity to establish relationships and build networks that may help them in their future careers.\n",
      "\n",
      "Overall, the Artist-In-Residence program at the Sydney Conservatorium of Music is a valuable opportunity for students to work with world-class artists and gain valuable experience that can help them in their future careers.</s>\n",
      "<|user|>\n",
      "Are there any opportunities for students at the Sydney Conservatorium of Music to perform or showcase their talent outside of the campus and in front of a live audience?</s>\n",
      "<|assistant|>\n",
      "Yes, there are many opportunities for students at the Sydney Conservatorium of Music to perform or showcase their talent outside of the campus. The conservatorium has strong industry connections throughout Australia, and regularly hosts events and performances that allow students to gain real-world experience and exposure.\n",
      "\n",
      "One example is the Sydney Conservatorium of Music Symphony Orchestra, which performs regularly at venues including the Sydney Opera House and the City Recital Hall. Students who participate in the orchestra have the opportunity to perform in front of larger audiences and gain experience working with professional conductors and musicians.\n",
      "\n",
      "Additionally, the conservatorium hosts numerous concerts and recitals throughout the year that feature solo performances and small ensembles. These performances take place both on and off-campus and provide students with the opportunity to showcase their skills in front of a live audience.\n",
      "\n",
      "The conservatorium also participates in a range of external events and festivals, including the Sydney Festival and the Vivid Sydney Festival of Light, Music, and Ideas. These events provide students with exposure to a wider audience and the opportunity to perform alongside other professional musicians and artists.\n",
      "\n",
      "Overall, the Sydney Conservatorium of Music provides students with many opportunities to perform and showcase their talent outside of the campus and gain experience working in real-world performance contexts.</s>\n",
      "<|user|>\n",
      "Can you tell me more about the specific partnerships the Sydney Conservatorium of Music has with professional music organizations, and how those partnerships benefit the students?</s>\n",
      "<|assistant|>\n",
      "Yes, the Sydney Conservatorium of Music has established partnerships with several professional music organizations that provide a range of opportunities for students to gain practical experience and connect with industry professionals. Here are a few examples:\n",
      "\n",
      "1. Australian Chamber Orchestra (ACO): The Sydney Conservatorium of Music has a longstanding partnership with the ACO, which allows students to participate in masterclasses and workshops with ACO musicians. The partnership also includes the ACO Academy, which provides a range of professional development opportunities for young musicians.\n",
      "\n",
      "2. Opera Australia: Students at the Sydney Conservatorium of Music can participate in Opera Australia's Youth Opera Program, which includes workshops and performance opportunities with the company's professional singers and musicians. The partnership also includes the Opera Australia Scholarship, which provides financial support and mentorship to young singers.\n",
      "\n",
      "3. Melbourne Symphony Orchestra (MSO): The Sydney Conservatorium of Music has a partnership with the MSO, which provides students with access to professional development opportunities such as masterclasses and workshops. The partnership also includes the MSO Fellowship Program, which provides young conductors with mentorship and experience working with a professional orchestra.\n",
      "\n",
      "4. Sydney Symphony Orchestra (SSO): The Sydney Conservatorium of Music has a close relationship with the SSO, with many of the orchestra's members also serving as faculty members at the conservatorium. Students have many opportunities to collaborate with the SSO, including performance opportunities and workshops with orchestra members.\n",
      "\n",
      "These partnerships benefit students in several ways. Firstly, they provide access to professional musicians and industry leaders who can offer insight into the music industry and provide guidance and support for young musicians. Secondly, they provide practical experience and opportunities for students to perform with professional musicians and gain exposure to real-world performance contexts. Finally, they help to build connections and networks within the industry, which can be valuable for students as they embark on their own careers in music.</s>\n",
      "<|user|>\n",
      "Wow, it's great to hear that the Sydney Conservatorium of Music provides so many opportunities for students to connect with professionals in the music industry. Do they also offer any internships or job placements for graduates?</s>\n",
      "<|assistant|>\n",
      "Yes, the Sydney Conservatorium of Music offers a range of internship and job placement opportunities for its graduates. The conservatorium has a dedicated Career Development Office that provides resources and support to students and alumni as they transition into the music industry.\n",
      "\n",
      "The Career Development Office works with a range of industry partners to provide internships and job placements for graduates. These industry partners include major orchestras, opera companies, festivals, and record labels. Internships and job placements can vary widely, depending on the needs of the industry partner and the skills and interests of the graduate.\n",
      "\n",
      "The conservatorium also hosts regular workshops and events on topics related to career development, such as resume writing, networking, and professional branding. These events are designed to provide students and alumni with practical skills and advice to help them succeed in the music industry.\n",
      "\n",
      "Additionally, the conservatorium has a strong alumni network, with graduates working in a wide range of musical fields around the world. This network can be a valuable resource for students and alumni as they navigate their careers and seek out new opportunities.\n",
      "\n",
      "Overall, the Sydney Conservatorium of Music is committed to supporting students and alumni as they transition into the music industry, and offers a range of internship and job placement opportunities to help them achieve success.</s>\n",
      "\n",
      "================================================================================\n",
      "<|system|>\n",
      "</s>\n",
      "<|user|>\n",
      "How does the location of the Sydney Conservatorium of Music impact the academic and professional opportunities available to music students, and how does the conservatorium support student engagement with the music industry in Australia?</s>\n",
      "<|assistant|>\n",
      "The location of the Sydney Conservatorium of Music, which is situated in the heart of Sydney's cultural precinct, impacts both the academic and professional opportunities available to music students. The conservatorium is located near several major performing arts venues and organizations, including the Sydney Opera House, the Australian Broadcasting Corporation, and the Sydney Symphony Orchestra, providing students with easy access to performances, rehearsals, and networking opportunities.\n",
      "\n",
      "One of the primary ways the conservatorium supports student engagement with the music industry in Australia is through its strong industry connections. The conservatorium has established partnerships with numerous professional music organizations, such as the Australian Chamber Orchestra, Opera Australia, and the Melbourne Symphony Orchestra. These partnerships provide students with the opportunity to work with industry professionals and gain practical experience in their chosen field.\n",
      "\n",
      "The conservatorium also offers a range of academic and extra-curricular programs that prepare students for careers in the music industry. For example, the Bachelor of Music (Performance) program includes specialized pathways in instrumental/vocal performance, composition, and musicology, while the Artist-In-Residence program allows students to work with internationally renowned musicians.\n",
      "\n",
      "Additionally, the conservatorium has a dedicated Career Development Office that provides students with assistance in finding employment, internships, and performance opportunities. The office also hosts regular industry events, such as masterclasses and networking sessions, to help students connect with industry professionals and gain a deeper understanding of the music industry in Australia.\n",
      "\n",
      "Overall, the location of the Sydney Conservatorium of Music and its strong industry connections provide students with a range of academic and professional opportunities that prepare them for successful careers in the music industry.</s>\n",
      "<|user|>\n",
      "Can you give me some examples of notable alumni from the Sydney Conservatorium of Music who have gone on to successful careers in the music industry?</s>\n",
      "<|assistant|>\n",
      "Certainly! The Sydney Conservatorium of Music has produced many successful alumni that have gone on to have impactful careers in the music industry. Here are a few notable examples:\n",
      "\n",
      "1. Brett Dean: Dean is an Australian composer and violist who studied at the Sydney Conservatorium of Music in the 1980s. He has since become one of Australia's most prominent living composers, and his works have been performed around the world.\n",
      "\n",
      "2. Nicole Car: Car is an Australian operatic soprano who studied at the Sydney Conservatorium of Music in the early 2000s. She has since become an internationally renowned singer and has performed in some of the world's most prestigious opera houses.\n",
      "\n",
      "3. Tim Minchin: Minchin is an Australian comedian, composer, and musician who studied piano and classical music at the Sydney Conservatorium of Music in the 1990s. He has since become a household name in Australia and around the world for his unique brand of musical comedy.\n",
      "\n",
      "4. Elena Kats-Chernin: Kats-Chernin is an Australian pianist and composer who studied at the Sydney Conservatorium of Music in the 1970s. She has since become one of Australia's most prominent composers, and her music has been performed by some of the world's leading orchestras.\n",
      "\n",
      "5. Jessica Wells: Wells is an Australian conductor and violinist who studied at the Sydney Conservatorium of Music in the 2000s. She has since become a sought-after conductor, working with a range of orchestras in Australia and around the world.\n",
      "\n",
      "These are just a few examples of the many successful alumni who have studied at the Sydney Conservatorium of Music.</s>\n",
      "<|user|>\n",
      "Can you tell me more about the Artist-In-Residence program at the Sydney Conservatorium of Music? How does it work and what are the benefits for students?</s>\n",
      "<|assistant|>\n",
      "The Artist-In-Residence program at the Sydney Conservatorium of Music is a unique opportunity for students to work with internationally renowned musicians, composers, and artists. The program brings in a diverse range of artists from around the world to collaborate with students and faculty for extended periods of time.\n",
      "\n",
      "The program is designed to provide students with access to world-class artists and allow them to gain valuable experience working with professionals in their field. Typically, the artists-in-residence will give lectures, masterclasses, and workshops, perform with students or faculty members, and collaborate on new works or projects.\n",
      "\n",
      "The program benefits students in several ways. Firstly, it provides them with exposure to different styles of music and different approaches to performance and composition. This exposure can help to broaden their musical horizons and inspire them to explore new genres or techniques.\n",
      "\n",
      "Secondly, working with professional artists can provide students with valuable learning opportunities. They can gain insights into the creative process and learn from the experiences of professionals who have had successful careers in the music industry.\n",
      "\n",
      "Finally, the program can help to build valuable connections and networks for students. By working with visiting artists, students have the opportunity to establish relationships and build networks that may help them in their future careers.\n",
      "\n",
      "Overall, the Artist-In-Residence program at the Sydney Conservatorium of Music is a valuable opportunity for students to work with world-class artists and gain valuable experience that can help them in their future careers.</s>\n",
      "<|user|>\n",
      "Are there any opportunities for students at the Sydney Conservatorium of Music to perform or showcase their talent outside of the campus and in front of a live audience?</s>\n",
      "<|assistant|>\n",
      "Yes, there are many opportunities for students at the Sydney Conservatorium of Music to perform or showcase their talent outside of the campus. The conservatorium has strong industry connections throughout Australia, and regularly hosts events and performances that allow students to gain real-world experience and exposure.\n",
      "\n",
      "One example is the Sydney Conservatorium of Music Symphony Orchestra, which performs regularly at venues including the Sydney Opera House and the City Recital Hall. Students who participate in the orchestra have the opportunity to perform in front of larger audiences and gain experience working with professional conductors and musicians.\n",
      "\n",
      "Additionally, the conservatorium hosts numerous concerts and recitals throughout the year that feature solo performances and small ensembles. These performances take place both on and off-campus and provide students with the opportunity to showcase their skills in front of a live audience.\n",
      "\n",
      "The conservatorium also participates in a range of external events and festivals, including the Sydney Festival and the Vivid Sydney Festival of Light, Music, and Ideas. These events provide students with exposure to a wider audience and the opportunity to perform alongside other professional musicians and artists.\n",
      "\n",
      "Overall, the Sydney Conservatorium of Music provides students with many opportunities to perform and showcase their talent outside of the campus and gain experience working in real-world performance contexts.</s>\n",
      "<|user|>\n",
      "Can you tell me more about the specific partnerships the Sydney Conservatorium of Music has with professional music organizations, and how those partnerships benefit the students?</s>\n",
      "<|assistant|>\n",
      "Yes, the Sydney Conservatorium of Music has established partnerships with several professional music organizations that provide a range of opportunities for students to gain practical experience and connect with industry professionals. Here are a few examples:\n",
      "\n",
      "1. Australian Chamber Orchestra (ACO): The Sydney Conservatorium of Music has a longstanding partnership with the ACO, which allows students to participate in masterclasses and workshops with ACO musicians. The partnership also includes the ACO Academy, which provides a range of professional development opportunities for young musicians.\n",
      "\n",
      "2. Opera Australia: Students at the Sydney Conservatorium of Music can participate in Opera Australia's Youth Opera Program, which includes workshops and performance opportunities with the company's professional singers and musicians. The partnership also includes the Opera Australia Scholarship, which provides financial support and mentorship to young singers.\n",
      "\n",
      "3. Melbourne Symphony Orchestra (MSO): The Sydney Conservatorium of Music has a partnership with the MSO, which provides students with access to professional development opportunities such as masterclasses and workshops. The partnership also includes the MSO Fellowship Program, which provides young conductors with mentorship and experience working with a professional orchestra.\n",
      "\n",
      "4. Sydney Symphony Orchestra (SSO): The Sydney Conservatorium of Music has a close relationship with the SSO, with many of the orchestra's members also serving as faculty members at the conservatorium. Students have many opportunities to collaborate with the SSO, including performance opportunities and workshops with orchestra members.\n",
      "\n",
      "These partnerships benefit students in several ways. Firstly, they provide access to professional musicians and industry leaders who can offer insight into the music industry and provide guidance and support for young musicians. Secondly, they provide practical experience and opportunities for students to perform with professional musicians and gain exposure to real-world performance contexts. Finally, they help to build connections and networks within the industry, which can be valuable for students as they embark on their own careers in music.</s>\n",
      "<|user|>\n",
      "Wow, it's great to hear that the Sydney Conservatorium of Music provides so many opportunities for students to connect with professionals in the music industry. Do they also offer any internships or job placements for graduates?</s>\n",
      "<|assistant|>\n",
      "Yes, the Sydney Conservatorium of Music offers a range of internship and job placement opportunities for its graduates. The conservatorium has a dedicated Career Development Office that provides resources and support to students and alumni as they transition into the music industry.\n",
      "\n",
      "The Career Development Office works with a range of industry partners to provide internships and job placements for graduates. These industry partners include major orchestras, opera companies, festivals, and record labels. Internships and job placements can vary widely, depending on the needs of the industry partner and the skills and interests of the graduate.\n",
      "\n",
      "The conservatorium also hosts regular workshops and events on topics related to career development, such as resume writing, networking, and professional branding. These events are designed to provide students and alumni with practical skills and advice to help them succeed in the music industry.\n",
      "\n",
      "Additionally, the conservatorium has a strong alumni network, with graduates working in a wide range of musical fields around the world. This network can be a valuable resource for students and alumni as they navigate their careers and seek out new opportunities.\n",
      "\n",
      "Overall, the Sydney Conservatorium of Music is committed to supporting students and alumni as they transition into the music industry, and offers a range of internship and job placement opportunities to help them achieve success.</s>\n",
      "<|assistant|>\n",
      "\n"
     ]
    }
   ],
   "source": [
    "from training_lib.data import get_datasets\n",
    "\n",
    "data_args = DataArguments(dataset_mixer={\"HuggingFaceH4/ultrachat_200k\": 1.0})\n",
    "model_args = ModelArguments(model_name_or_path=\"mistralai/Mistral-7B-v0.1\")\n",
    "\n",
    "raw_datasets = get_datasets(data_args, splits=[\"train_sft\", \"test_sft\"])\n",
    "tokenizer = get_tokenizer(model_args, data_args)\n",
    "\n",
    "print(raw_datasets)\n",
    "print(\"=\" * 80)\n",
    "\n",
    "example = raw_datasets[\"train\"][0]\n",
    "print(example)\n",
    "print(\"=\" * 80)\n",
    "\n",
    "res = apply_chat_template(example, tokenizer, \"sft\")\n",
    "print(res[\"text\"])\n",
    "print(\"=\" * 80)\n",
    "\n",
    "res = apply_chat_template(example, tokenizer, \"generation\")\n",
    "print(res[\"text\"])"
   ]
  },
  {
   "cell_type": "code",
   "execution_count": 9,
   "metadata": {},
   "outputs": [
    {
     "name": "stdout",
     "output_type": "stream",
     "text": [
      "DatasetDict({\n",
      "    train: Dataset({\n",
      "        features: ['prompt', 'prompt_id', 'chosen', 'rejected', 'messages', 'score_chosen', 'score_rejected'],\n",
      "        num_rows: 61966\n",
      "    })\n",
      "    test: Dataset({\n",
      "        features: ['prompt', 'prompt_id', 'chosen', 'rejected', 'messages', 'score_chosen', 'score_rejected'],\n",
      "        num_rows: 2000\n",
      "    })\n",
      "})\n",
      "================================================================================\n",
      "{'prompt': 'Please provide the content structure of the following text using [Latex] data format. Additionally, please ensure that the structure includes a table comparing the results of the two groups, as well as a code snippet detailing the statistical analysis performed in the study. The results of the study showed a significant difference between the two groups. The study also found that the treatment was effective for a wide range of conditions.', 'prompt_id': '5cf991718c2849e6d0312f999314dfb0e6dfc1a10234f461ea321b9c038262be', 'chosen': [{'content': 'Please provide the content structure of the following text using [Latex] data format. Additionally, please ensure that the structure includes a table comparing the results of the two groups, as well as a code snippet detailing the statistical analysis performed in the study. The results of the study showed a significant difference between the two groups. The study also found that the treatment was effective for a wide range of conditions.', 'role': 'user'}, {'content': 'I am not able to write in LaTeX directly in this text box, but I can provide you with a template that you can use for your text. You can copy this template into a LaTeX document and modify it as needed. Below is an example of how the content structure could look like for your text.\\n\\n```latex\\n\\\\documentclass{article}\\n\\\\usepackage{booktabs}\\n\\\\usepackage{listings}\\n\\\\lstset{\\n  basicstyle=\\\\ttfamily,\\n  columns=fullflexible,\\n  frame=single,\\n  breaklines=true,\\n  postbreak=\\\\mbox{\\\\textcolor{red}{$\\\\hookrightarrow$}\\\\space},\\n}\\n\\n\\\\begin{document}\\n\\n\\\\title{Title of the Study}\\n\\\\author{Author Name}\\n\\\\date{\\\\today}\\n\\\\maketitle\\n\\n\\\\section{Introduction}\\nWrite the study\\'s introduction here.\\n\\n\\\\section{Method}\\nWrite the method of the study here.\\n\\n\\\\subsection{Participants}\\nDescribe the participants of the study.\\n\\n\\\\subsection{Materials and Procedure}\\nDescribe the materials and procedure used in the study.\\n\\n\\\\section{Results}\\nThe results of the study showed a significant difference between the two groups. The study also found that the treatment was effective for a wide range of conditions.\\n\\n\\\\begin{table}[h!]\\n\\\\centering\\n\\\\begin{tabular}{@{}lcc@{}}\\n\\\\toprule\\n\\\\textbf{Groups} & \\\\textbf{Group 1} & \\\\textbf{Group 2} \\\\\\\\\\n\\\\midrule\\nResult 1 & Value 1 & Value 2 \\\\\\\\\\nResult 2 & Value 3 & Value 4 \\\\\\\\\\nResult 3 & Value 5 & Value 6 \\\\\\\\\\n\\\\bottomrule\\n\\\\end{tabular}\\n\\\\caption{Comparison of results between Group 1 and Group 2.}\\n\\\\label{tab:results_comparision}\\n\\\\end{table}\\n\\n\\\\section{Statistical Analysis}\\n\\n\\\\begin{lstlisting}[language=R, caption=Statistical analysis code snippet, label=lst:statisticalanalysis]\\n# Example R code for statistical analysis\\n\\n# Loading required libraries\\nlibrary(tidyr)\\nlibrary(dplyr)\\n\\n# Reading data\\ndata <- read.csv(\"data_file.csv\")\\n\\n# Preprocessing data\\ndata_processed <- data %>%\\n  group_by(Group) %>%\\n  summarize(mean = mean(Result),\\n            sd = sd(Result))\\n\\n# Performing t-test\\nt_test_result <- t.test(data$Result ~ data$Group, var.equal = TRUE)\\n\\n# Printing t-test results\\nprint(t_test_result)\\n\\\\end{lstlisting}\\n\\nThe statistical analysis performed in the study revealed a significant difference between the two groups (t-stat = X.XX, p-value = X.XX, 95\\\\% CI = [X.XX, X.XX]).\\n\\n\\\\section{Discussion}\\nDiscuss the implications of the study findings here.\\n\\n\\\\section{Conclusion}\\nConclude the study\\'s findings here.\\n\\n\\\\end{document}\\n```\\n\\nMake sure to replace the placeholders (e.g., X.XX and Value 1) with the actual values from your study.', 'role': 'assistant'}], 'rejected': [{'content': 'Please provide the content structure of the following text using [Latex] data format. Additionally, please ensure that the structure includes a table comparing the results of the two groups, as well as a code snippet detailing the statistical analysis performed in the study. The results of the study showed a significant difference between the two groups. The study also found that the treatment was effective for a wide range of conditions.', 'role': 'user'}, {'content': 'According to the article titled \"Title of Article\", the following is the Latex format data structure of the content:\\n\\n\\\\begin{table}[htbp]\\n\\n\\\\centering\\n\\\\caption{Table comparing the results of the two groups}\\n\\\\end{caption}\\n\\\\begin{tabular}{ccccc}\\n\\\\hline\\nGroup & Age & Gender & Treatment & Result \\\\\\\\\\n\\\\hline\\nA & 30-40 &Male & Therapy & \\\\\\\\\\n\\\\hline\\nB & 50-60 &Female & Medication+surgery & \\\\\\\\\\n\\\\hline\\n\\\\end{tabular}\\n\\n\\\\begin{tikzpicture}\\n\\\\begin{axis}[\\n    ytick={-2,-2,-2,2,2},\\n    log y scale=false,\\n    ymax=1,\\n    ymin=0.01,\\n    xtick={1,2},\\n    xticklabel={Group A \\\\textrm{,} Group B},\\n    ymajorgrids=true,\\n    legend pos=bottom,\\n    legend cs=2.0\\n]\\n    \\\\addplot [gray!25,dashed] coordinates {\\n    (1,0.01)\\n    (2,-0.01)\\n    };\\n\\\\end{axis}\\n\\n<p>The code snippet detailing the statistical analysis performed in the study:</p>\\n\\n<pre><code> # analysis code here\\n</code></pre', 'role': 'assistant'}], 'messages': [{'content': 'Please provide the content structure of the following text using [Latex] data format. Additionally, please ensure that the structure includes a table comparing the results of the two groups, as well as a code snippet detailing the statistical analysis performed in the study. The results of the study showed a significant difference between the two groups. The study also found that the treatment was effective for a wide range of conditions.', 'role': 'user'}, {'content': 'I am not able to write in LaTeX directly in this text box, but I can provide you with a template that you can use for your text. You can copy this template into a LaTeX document and modify it as needed. Below is an example of how the content structure could look like for your text.\\n\\n```latex\\n\\\\documentclass{article}\\n\\\\usepackage{booktabs}\\n\\\\usepackage{listings}\\n\\\\lstset{\\n  basicstyle=\\\\ttfamily,\\n  columns=fullflexible,\\n  frame=single,\\n  breaklines=true,\\n  postbreak=\\\\mbox{\\\\textcolor{red}{$\\\\hookrightarrow$}\\\\space},\\n}\\n\\n\\\\begin{document}\\n\\n\\\\title{Title of the Study}\\n\\\\author{Author Name}\\n\\\\date{\\\\today}\\n\\\\maketitle\\n\\n\\\\section{Introduction}\\nWrite the study\\'s introduction here.\\n\\n\\\\section{Method}\\nWrite the method of the study here.\\n\\n\\\\subsection{Participants}\\nDescribe the participants of the study.\\n\\n\\\\subsection{Materials and Procedure}\\nDescribe the materials and procedure used in the study.\\n\\n\\\\section{Results}\\nThe results of the study showed a significant difference between the two groups. The study also found that the treatment was effective for a wide range of conditions.\\n\\n\\\\begin{table}[h!]\\n\\\\centering\\n\\\\begin{tabular}{@{}lcc@{}}\\n\\\\toprule\\n\\\\textbf{Groups} & \\\\textbf{Group 1} & \\\\textbf{Group 2} \\\\\\\\\\n\\\\midrule\\nResult 1 & Value 1 & Value 2 \\\\\\\\\\nResult 2 & Value 3 & Value 4 \\\\\\\\\\nResult 3 & Value 5 & Value 6 \\\\\\\\\\n\\\\bottomrule\\n\\\\end{tabular}\\n\\\\caption{Comparison of results between Group 1 and Group 2.}\\n\\\\label{tab:results_comparision}\\n\\\\end{table}\\n\\n\\\\section{Statistical Analysis}\\n\\n\\\\begin{lstlisting}[language=R, caption=Statistical analysis code snippet, label=lst:statisticalanalysis]\\n# Example R code for statistical analysis\\n\\n# Loading required libraries\\nlibrary(tidyr)\\nlibrary(dplyr)\\n\\n# Reading data\\ndata <- read.csv(\"data_file.csv\")\\n\\n# Preprocessing data\\ndata_processed <- data %>%\\n  group_by(Group) %>%\\n  summarize(mean = mean(Result),\\n            sd = sd(Result))\\n\\n# Performing t-test\\nt_test_result <- t.test(data$Result ~ data$Group, var.equal = TRUE)\\n\\n# Printing t-test results\\nprint(t_test_result)\\n\\\\end{lstlisting}\\n\\nThe statistical analysis performed in the study revealed a significant difference between the two groups (t-stat = X.XX, p-value = X.XX, 95\\\\% CI = [X.XX, X.XX]).\\n\\n\\\\section{Discussion}\\nDiscuss the implications of the study findings here.\\n\\n\\\\section{Conclusion}\\nConclude the study\\'s findings here.\\n\\n\\\\end{document}\\n```\\n\\nMake sure to replace the placeholders (e.g., X.XX and Value 1) with the actual values from your study.', 'role': 'assistant'}], 'score_chosen': 8.0, 'score_rejected': 4.0}\n",
      "================================================================================\n",
      "{'score_chosen': 8.0, 'score_rejected': 4.0, 'text_chosen': '<|system|>\\n</s>\\n<|user|>\\nPlease provide the content structure of the following text using [Latex] data format. Additionally, please ensure that the structure includes a table comparing the results of the two groups, as well as a code snippet detailing the statistical analysis performed in the study. The results of the study showed a significant difference between the two groups. The study also found that the treatment was effective for a wide range of conditions.</s>\\n<|assistant|>\\nI am not able to write in LaTeX directly in this text box, but I can provide you with a template that you can use for your text. You can copy this template into a LaTeX document and modify it as needed. Below is an example of how the content structure could look like for your text.\\n\\n```latex\\n\\\\documentclass{article}\\n\\\\usepackage{booktabs}\\n\\\\usepackage{listings}\\n\\\\lstset{\\n  basicstyle=\\\\ttfamily,\\n  columns=fullflexible,\\n  frame=single,\\n  breaklines=true,\\n  postbreak=\\\\mbox{\\\\textcolor{red}{$\\\\hookrightarrow$}\\\\space},\\n}\\n\\n\\\\begin{document}\\n\\n\\\\title{Title of the Study}\\n\\\\author{Author Name}\\n\\\\date{\\\\today}\\n\\\\maketitle\\n\\n\\\\section{Introduction}\\nWrite the study\\'s introduction here.\\n\\n\\\\section{Method}\\nWrite the method of the study here.\\n\\n\\\\subsection{Participants}\\nDescribe the participants of the study.\\n\\n\\\\subsection{Materials and Procedure}\\nDescribe the materials and procedure used in the study.\\n\\n\\\\section{Results}\\nThe results of the study showed a significant difference between the two groups. The study also found that the treatment was effective for a wide range of conditions.\\n\\n\\\\begin{table}[h!]\\n\\\\centering\\n\\\\begin{tabular}{@{}lcc@{}}\\n\\\\toprule\\n\\\\textbf{Groups} & \\\\textbf{Group 1} & \\\\textbf{Group 2} \\\\\\\\\\n\\\\midrule\\nResult 1 & Value 1 & Value 2 \\\\\\\\\\nResult 2 & Value 3 & Value 4 \\\\\\\\\\nResult 3 & Value 5 & Value 6 \\\\\\\\\\n\\\\bottomrule\\n\\\\end{tabular}\\n\\\\caption{Comparison of results between Group 1 and Group 2.}\\n\\\\label{tab:results_comparision}\\n\\\\end{table}\\n\\n\\\\section{Statistical Analysis}\\n\\n\\\\begin{lstlisting}[language=R, caption=Statistical analysis code snippet, label=lst:statisticalanalysis]\\n# Example R code for statistical analysis\\n\\n# Loading required libraries\\nlibrary(tidyr)\\nlibrary(dplyr)\\n\\n# Reading data\\ndata <- read.csv(\"data_file.csv\")\\n\\n# Preprocessing data\\ndata_processed <- data %>%\\n  group_by(Group) %>%\\n  summarize(mean = mean(Result),\\n            sd = sd(Result))\\n\\n# Performing t-test\\nt_test_result <- t.test(data$Result ~ data$Group, var.equal = TRUE)\\n\\n# Printing t-test results\\nprint(t_test_result)\\n\\\\end{lstlisting}\\n\\nThe statistical analysis performed in the study revealed a significant difference between the two groups (t-stat = X.XX, p-value = X.XX, 95\\\\% CI = [X.XX, X.XX]).\\n\\n\\\\section{Discussion}\\nDiscuss the implications of the study findings here.\\n\\n\\\\section{Conclusion}\\nConclude the study\\'s findings here.\\n\\n\\\\end{document}\\n```\\n\\nMake sure to replace the placeholders (e.g., X.XX and Value 1) with the actual values from your study.</s>\\n', 'text_rejected': '<|system|>\\n</s>\\n<|user|>\\nPlease provide the content structure of the following text using [Latex] data format. Additionally, please ensure that the structure includes a table comparing the results of the two groups, as well as a code snippet detailing the statistical analysis performed in the study. The results of the study showed a significant difference between the two groups. The study also found that the treatment was effective for a wide range of conditions.</s>\\n<|assistant|>\\nAccording to the article titled \"Title of Article\", the following is the Latex format data structure of the content:\\n\\n\\\\begin{table}[htbp]\\n\\n\\\\centering\\n\\\\caption{Table comparing the results of the two groups}\\n\\\\end{caption}\\n\\\\begin{tabular}{ccccc}\\n\\\\hline\\nGroup & Age & Gender & Treatment & Result \\\\\\\\\\n\\\\hline\\nA & 30-40 &Male & Therapy & \\\\\\\\\\n\\\\hline\\nB & 50-60 &Female & Medication+surgery & \\\\\\\\\\n\\\\hline\\n\\\\end{tabular}\\n\\n\\\\begin{tikzpicture}\\n\\\\begin{axis}[\\n    ytick={-2,-2,-2,2,2},\\n    log y scale=false,\\n    ymax=1,\\n    ymin=0.01,\\n    xtick={1,2},\\n    xticklabel={Group A \\\\textrm{,} Group B},\\n    ymajorgrids=true,\\n    legend pos=bottom,\\n    legend cs=2.0\\n]\\n    \\\\addplot [gray!25,dashed] coordinates {\\n    (1,0.01)\\n    (2,-0.01)\\n    };\\n\\\\end{axis}\\n\\n<p>The code snippet detailing the statistical analysis performed in the study:</p>\\n\\n<pre><code> # analysis code here\\n</code></pre</s>\\n'}\n",
      "================================================================================\n",
      "{'text_chosen': '<|user|>\\nPlease provide the content structure of the following text using [Latex] data format. Additionally, please ensure that the structure includes a table comparing the results of the two groups, as well as a code snippet detailing the statistical analysis performed in the study. The results of the study showed a significant difference between the two groups. The study also found that the treatment was effective for a wide range of conditions.</s>\\n<|assistant|>\\nI am not able to write in LaTeX directly in this text box, but I can provide you with a template that you can use for your text. You can copy this template into a LaTeX document and modify it as needed. Below is an example of how the content structure could look like for your text.\\n\\n```latex\\n\\\\documentclass{article}\\n\\\\usepackage{booktabs}\\n\\\\usepackage{listings}\\n\\\\lstset{\\n  basicstyle=\\\\ttfamily,\\n  columns=fullflexible,\\n  frame=single,\\n  breaklines=true,\\n  postbreak=\\\\mbox{\\\\textcolor{red}{$\\\\hookrightarrow$}\\\\space},\\n}\\n\\n\\\\begin{document}\\n\\n\\\\title{Title of the Study}\\n\\\\author{Author Name}\\n\\\\date{\\\\today}\\n\\\\maketitle\\n\\n\\\\section{Introduction}\\nWrite the study\\'s introduction here.\\n\\n\\\\section{Method}\\nWrite the method of the study here.\\n\\n\\\\subsection{Participants}\\nDescribe the participants of the study.\\n\\n\\\\subsection{Materials and Procedure}\\nDescribe the materials and procedure used in the study.\\n\\n\\\\section{Results}\\nThe results of the study showed a significant difference between the two groups. The study also found that the treatment was effective for a wide range of conditions.\\n\\n\\\\begin{table}[h!]\\n\\\\centering\\n\\\\begin{tabular}{@{}lcc@{}}\\n\\\\toprule\\n\\\\textbf{Groups} & \\\\textbf{Group 1} & \\\\textbf{Group 2} \\\\\\\\\\n\\\\midrule\\nResult 1 & Value 1 & Value 2 \\\\\\\\\\nResult 2 & Value 3 & Value 4 \\\\\\\\\\nResult 3 & Value 5 & Value 6 \\\\\\\\\\n\\\\bottomrule\\n\\\\end{tabular}\\n\\\\caption{Comparison of results between Group 1 and Group 2.}\\n\\\\label{tab:results_comparision}\\n\\\\end{table}\\n\\n\\\\section{Statistical Analysis}\\n\\n\\\\begin{lstlisting}[language=R, caption=Statistical analysis code snippet, label=lst:statisticalanalysis]\\n# Example R code for statistical analysis\\n\\n# Loading required libraries\\nlibrary(tidyr)\\nlibrary(dplyr)\\n\\n# Reading data\\ndata <- read.csv(\"data_file.csv\")\\n\\n# Preprocessing data\\ndata_processed <- data %>%\\n  group_by(Group) %>%\\n  summarize(mean = mean(Result),\\n            sd = sd(Result))\\n\\n# Performing t-test\\nt_test_result <- t.test(data$Result ~ data$Group, var.equal = TRUE)\\n\\n# Printing t-test results\\nprint(t_test_result)\\n\\\\end{lstlisting}\\n\\nThe statistical analysis performed in the study revealed a significant difference between the two groups (t-stat = X.XX, p-value = X.XX, 95\\\\% CI = [X.XX, X.XX]).\\n\\n\\\\section{Discussion}\\nDiscuss the implications of the study findings here.\\n\\n\\\\section{Conclusion}\\nConclude the study\\'s findings here.\\n\\n\\\\end{document}\\n```\\n\\nMake sure to replace the placeholders (e.g., X.XX and Value 1) with the actual values from your study.</s>\\n', 'text_rejected': '<|user|>\\nPlease provide the content structure of the following text using [Latex] data format. Additionally, please ensure that the structure includes a table comparing the results of the two groups, as well as a code snippet detailing the statistical analysis performed in the study. The results of the study showed a significant difference between the two groups. The study also found that the treatment was effective for a wide range of conditions.</s>\\n<|assistant|>\\nAccording to the article titled \"Title of Article\", the following is the Latex format data structure of the content:\\n\\n\\\\begin{table}[htbp]\\n\\n\\\\centering\\n\\\\caption{Table comparing the results of the two groups}\\n\\\\end{caption}\\n\\\\begin{tabular}{ccccc}\\n\\\\hline\\nGroup & Age & Gender & Treatment & Result \\\\\\\\\\n\\\\hline\\nA & 30-40 &Male & Therapy & \\\\\\\\\\n\\\\hline\\nB & 50-60 &Female & Medication+surgery & \\\\\\\\\\n\\\\hline\\n\\\\end{tabular}\\n\\n\\\\begin{tikzpicture}\\n\\\\begin{axis}[\\n    ytick={-2,-2,-2,2,2},\\n    log y scale=false,\\n    ymax=1,\\n    ymin=0.01,\\n    xtick={1,2},\\n    xticklabel={Group A \\\\textrm{,} Group B},\\n    ymajorgrids=true,\\n    legend pos=bottom,\\n    legend cs=2.0\\n]\\n    \\\\addplot [gray!25,dashed] coordinates {\\n    (1,0.01)\\n    (2,-0.01)\\n    };\\n\\\\end{axis}\\n\\n<p>The code snippet detailing the statistical analysis performed in the study:</p>\\n\\n<pre><code> # analysis code here\\n</code></pre</s>\\n', 'text_prompt': '<|system|>\\n</s>\\n<|user|>\\nPlease provide the content structure of the following text using [Latex] data format. Additionally, please ensure that the structure includes a table comparing the results of the two groups, as well as a code snippet detailing the statistical analysis performed in the study. The results of the study showed a significant difference between the two groups. The study also found that the treatment was effective for a wide range of conditions.</s>\\n<|assistant|>\\n'}\n",
      "================================================================================\n"
     ]
    }
   ],
   "source": [
    "from training_lib.data import get_datasets\n",
    "\n",
    "data_args = DataArguments(dataset_mixer={\"HuggingFaceH4/ultrafeedback_binarized\": 1.0})\n",
    "model_args = ModelArguments(model_name_or_path=\"mistralai/Mistral-7B-v0.1\")\n",
    "\n",
    "raw_datasets = get_datasets(data_args, splits=[\"train_prefs\", \"test_prefs\"])\n",
    "tokenizer = get_tokenizer(model_args, data_args)\n",
    "\n",
    "print(raw_datasets)\n",
    "print(\"=\" * 80)\n",
    "\n",
    "example = raw_datasets[\"train\"][0]\n",
    "print(example)\n",
    "print(\"=\" * 80)\n",
    "\n",
    "res = apply_chat_template(example, tokenizer, \"rm\")\n",
    "print({k: v for k, v in res.items() if k in [\"score_chosen\", \"score_rejected\", \"text_chosen\", \"text_rejected\"]})\n",
    "print(\"=\" * 80)\n",
    "\n",
    "res = apply_chat_template(example, tokenizer, \"dpo\")\n",
    "print({k: v for k, v in res.items() if k in [\"text_prompt\", \"text_chosen\", \"text_rejected\"]})\n",
    "print(\"=\" * 80)"
   ]
  },
  {
   "cell_type": "markdown",
   "metadata": {},
   "source": [
    "## Model"
   ]
  },
  {
   "cell_type": "markdown",
   "metadata": {},
   "source": [
    "### Utilities"
   ]
  },
  {
   "cell_type": "code",
   "execution_count": 10,
   "metadata": {},
   "outputs": [],
   "source": [
    "# |export\n",
    "def get_current_device() -> int:\n",
    "    \"\"\"Get the current device. For GPU we return the local process index to enable multiple GPU training.\"\"\"\n",
    "    return Accelerator().local_process_index if torch.cuda.is_available() else \"cpu\""
   ]
  },
  {
   "cell_type": "code",
   "execution_count": 11,
   "metadata": {},
   "outputs": [
    {
     "data": {
      "text/plain": [
       "0"
      ]
     },
     "execution_count": 11,
     "metadata": {},
     "output_type": "execute_result"
    }
   ],
   "source": [
    "get_current_device()"
   ]
  },
  {
   "cell_type": "code",
   "execution_count": 12,
   "metadata": {},
   "outputs": [],
   "source": [
    "# |export\n",
    "def get_kbit_device_map() -> Dict[str, int] | None:\n",
    "    \"\"\"Useful for running inference with quantized models by setting `device_map=get_peft_device_map()`\"\"\"\n",
    "    return {\"\": get_current_device()} if torch.cuda.is_available() else None"
   ]
  },
  {
   "cell_type": "code",
   "execution_count": 13,
   "metadata": {},
   "outputs": [
    {
     "data": {
      "text/plain": [
       "{'': 0}"
      ]
     },
     "execution_count": 13,
     "metadata": {},
     "output_type": "execute_result"
    }
   ],
   "source": [
    "get_kbit_device_map()"
   ]
  },
  {
   "cell_type": "markdown",
   "metadata": {},
   "source": [
    "### Quantization"
   ]
  },
  {
   "cell_type": "code",
   "execution_count": 14,
   "metadata": {},
   "outputs": [],
   "source": [
    "# |export\n",
    "def get_quantization_config(model_args) -> BitsAndBytesConfig | None:\n",
    "    if model_args.load_in_4bit:\n",
    "        quantization_config = BitsAndBytesConfig(\n",
    "            load_in_4bit=True,\n",
    "            bnb_4bit_compute_dtype=torch.float16,  # For consistency with model weights, we use the same value as `torch_dtype` which is float16 for PEFT models\n",
    "            bnb_4bit_quant_type=model_args.bnb_4bit_quant_type,\n",
    "            bnb_4bit_use_double_quant=model_args.use_bnb_nested_quant,\n",
    "        )\n",
    "    elif model_args.load_in_8bit:\n",
    "        quantization_config = BitsAndBytesConfig(\n",
    "            load_in_8bit=True,\n",
    "        )\n",
    "    else:\n",
    "        quantization_config = None\n",
    "\n",
    "    return quantization_config"
   ]
  },
  {
   "cell_type": "code",
   "execution_count": 16,
   "metadata": {},
   "outputs": [
    {
     "data": {
      "text/plain": [
       "BitsAndBytesConfig {\n",
       "  \"bnb_4bit_compute_dtype\": \"float16\",\n",
       "  \"bnb_4bit_quant_type\": \"nf4\",\n",
       "  \"bnb_4bit_use_double_quant\": false,\n",
       "  \"llm_int8_enable_fp32_cpu_offload\": false,\n",
       "  \"llm_int8_has_fp16_weight\": false,\n",
       "  \"llm_int8_skip_modules\": null,\n",
       "  \"llm_int8_threshold\": 6.0,\n",
       "  \"load_in_4bit\": true,\n",
       "  \"load_in_8bit\": false,\n",
       "  \"quant_method\": \"bitsandbytes\"\n",
       "}"
      ]
     },
     "execution_count": 16,
     "metadata": {},
     "output_type": "execute_result"
    }
   ],
   "source": [
    "model_args = ModelArguments(model_name_or_path=\"mistralai/Mistral-7B-v0.1\", load_in_4bit=True)\n",
    "get_quantization_config(model_args)"
   ]
  },
  {
   "cell_type": "code",
   "execution_count": 17,
   "metadata": {},
   "outputs": [
    {
     "data": {
      "text/plain": [
       "BitsAndBytesConfig {\n",
       "  \"bnb_4bit_compute_dtype\": \"float32\",\n",
       "  \"bnb_4bit_quant_type\": \"fp4\",\n",
       "  \"bnb_4bit_use_double_quant\": false,\n",
       "  \"llm_int8_enable_fp32_cpu_offload\": false,\n",
       "  \"llm_int8_has_fp16_weight\": false,\n",
       "  \"llm_int8_skip_modules\": null,\n",
       "  \"llm_int8_threshold\": 6.0,\n",
       "  \"load_in_4bit\": false,\n",
       "  \"load_in_8bit\": true,\n",
       "  \"quant_method\": \"bitsandbytes\"\n",
       "}"
      ]
     },
     "execution_count": 17,
     "metadata": {},
     "output_type": "execute_result"
    }
   ],
   "source": [
    "model_args = ModelArguments(model_name_or_path=\"mistralai/Mistral-7B-v0.1\", load_in_8bit=True)\n",
    "get_quantization_config(model_args)"
   ]
  },
  {
   "cell_type": "markdown",
   "metadata": {},
   "source": [
    "### PEFT"
   ]
  },
  {
   "cell_type": "code",
   "execution_count": 18,
   "metadata": {},
   "outputs": [],
   "source": [
    "# |export\n",
    "def get_peft_config(model_args: ModelArguments) -> PeftConfig | None:\n",
    "    if model_args.use_peft is False:\n",
    "        return None\n",
    "\n",
    "    peft_config = LoraConfig(\n",
    "        r=model_args.lora_r,\n",
    "        lora_alpha=model_args.lora_alpha,\n",
    "        lora_dropout=model_args.lora_dropout,\n",
    "        bias=\"none\",\n",
    "        task_type=\"CAUSAL_LM\",\n",
    "        target_modules=model_args.lora_target_modules,\n",
    "        modules_to_save=model_args.lora_modules_to_save,\n",
    "    )\n",
    "\n",
    "    return peft_config"
   ]
  },
  {
   "cell_type": "code",
   "execution_count": 22,
   "metadata": {},
   "outputs": [
    {
     "data": {
      "text/plain": [
       "{'peft_type': <PeftType.LORA: 'LORA'>,\n",
       " 'auto_mapping': None,\n",
       " 'base_model_name_or_path': None,\n",
       " 'revision': None,\n",
       " 'task_type': 'CAUSAL_LM',\n",
       " 'inference_mode': False,\n",
       " 'r': 64,\n",
       " 'target_modules': None,\n",
       " 'lora_alpha': 32,\n",
       " 'lora_dropout': 0.05,\n",
       " 'fan_in_fan_out': False,\n",
       " 'bias': 'none',\n",
       " 'modules_to_save': None,\n",
       " 'init_lora_weights': True,\n",
       " 'layers_to_transform': None,\n",
       " 'layers_pattern': None,\n",
       " 'rank_pattern': {},\n",
       " 'alpha_pattern': {}}"
      ]
     },
     "execution_count": 22,
     "metadata": {},
     "output_type": "execute_result"
    }
   ],
   "source": [
    "model_args = ModelArguments(model_name_or_path=\"mistralai/Mistral-7B-v0.1\", load_in_8bit=True, use_peft=True, lora_r=64)\n",
    "peft_config = get_peft_config(model_args)\n",
    "peft_config.__dict__"
   ]
  },
  {
   "cell_type": "code",
   "execution_count": 24,
   "metadata": {},
   "outputs": [],
   "source": [
    "#|export\n",
    "def is_adapter_model(model_name_or_path: str, revision: str = \"main\") -> bool:\n",
    "    try:\n",
    "        # Try first if model on a Hub repo\n",
    "        repo_files = list_repo_files(model_name_or_path, revision=revision)\n",
    "    except HFValidationError:\n",
    "        # If not, check local repo\n",
    "        repo_files = os.listdir(model_name_or_path)\n",
    "        \n",
    "    return \"adapter_model.safetensors\" in repo_files or \"adapter_model.bin\" in repo_files"
   ]
  },
  {
   "cell_type": "markdown",
   "metadata": {},
   "source": [
    "## Export"
   ]
  },
  {
   "cell_type": "code",
   "execution_count": 25,
   "metadata": {},
   "outputs": [],
   "source": [
    "from nbdev.export import nb_export\n",
    "\n",
    "nb_export(\"20_model_utils.ipynb\", lib_path=\"../training_lib/\", name=\"model_utils\")"
   ]
  },
  {
   "cell_type": "code",
   "execution_count": null,
   "metadata": {},
   "outputs": [],
   "source": []
  }
 ],
 "metadata": {
  "kernelspec": {
   "display_name": "llms",
   "language": "python",
   "name": "python3"
  },
  "language_info": {
   "codemirror_mode": {
    "name": "ipython",
    "version": 3
   },
   "file_extension": ".py",
   "mimetype": "text/x-python",
   "name": "python",
   "nbconvert_exporter": "python",
   "pygments_lexer": "ipython3",
   "version": "3.11.4"
  }
 },
 "nbformat": 4,
 "nbformat_minor": 2
}
